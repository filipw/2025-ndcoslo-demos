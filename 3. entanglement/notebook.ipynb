{
 "cells": [
  {
   "cell_type": "code",
   "execution_count": null,
   "id": "d4f81eb7",
   "metadata": {},
   "outputs": [],
   "source": [
    "import qsharp\n",
    "import os, sys\n",
    "\n",
    "notebook_dir = os.getcwd()\n",
    "project_root = os.path.dirname(notebook_dir)\n",
    "if project_root not in sys.path:\n",
    "    sys.path.insert(0, project_root)\n",
    "from util import plot"
   ]
  },
  {
   "cell_type": "code",
   "execution_count": null,
   "id": "724e0728",
   "metadata": {
    "vscode": {
     "languageId": "qsharp"
    }
   },
   "outputs": [],
   "source": [
    "%%qsharp\n",
    "\n",
    "operation Entangled(measurement_basis : Pauli) : Result[] {\n",
    "    use (one, two) = (Qubit(), Qubit());\n",
    "\n",
    "    // create entangled state\n",
    "    H(one);\n",
    "    CNOT(one, two);\n",
    "\n",
    "    let result_one = Measure([measurement_basis], [one]);\n",
    "    let result_two = Measure([measurement_basis], [two]);\n",
    "    ResetAll([one, two]);\n",
    "\n",
    "    [result_one, result_two]\n",
    "}"
   ]
  },
  {
   "cell_type": "markdown",
   "id": "41f3d643",
   "metadata": {},
   "source": [
    "![](entanglement2.excalidraw.svg)"
   ]
  },
  {
   "cell_type": "code",
   "execution_count": null,
   "id": "e788667d",
   "metadata": {},
   "outputs": [],
   "source": [
    "results = qsharp.run(\"Entangled(PauliZ)\", shots=1000)\n",
    "plot(results, title=\"Entangled electrons spin measurement - Z basis\")"
   ]
  },
  {
   "cell_type": "code",
   "execution_count": null,
   "id": "95049bca",
   "metadata": {},
   "outputs": [],
   "source": [
    "results = qsharp.run(\"Entangled(PauliX)\", shots=1000)\n",
    "plot(results, title=\"Entangled electrons spin measurement - X basis\")"
   ]
  },
  {
   "cell_type": "markdown",
   "id": "477abe74",
   "metadata": {},
   "source": [
    "![](teleportation2.excalidraw.svg)"
   ]
  },
  {
   "cell_type": "code",
   "execution_count": null,
   "id": "ec391245",
   "metadata": {
    "vscode": {
     "languageId": "qsharp"
    }
   },
   "outputs": [],
   "source": [
    "%%qsharp\n",
    "\n",
    "import Std.Convert.*;\n",
    "import Std.Math.*;\n",
    "\n",
    "operation TeleportationEndToEnd() : Result {\n",
    "    // Step 1:\n",
    "    // Allocate three qubits\n",
    "    //  - alice_message: Alice’s unknown state\n",
    "    //  - alice_qubit: Alice’s half of the entangled pair\n",
    "    //  - bob_qubit: Bob’s half of the entangled pair\n",
    "    use (alice_message, alice_qubit, bob_qubit) = (Qubit(), Qubit(), Qubit());\n",
    "\n",
    "    // Step 2:\n",
    "    // Alice and Bob entangle their qubits (alice_qubit and bob_qubit)\n",
    "    H(alice_qubit);\n",
    "    CNOT(alice_qubit, bob_qubit);\n",
    "\n",
    "    // Step 3: \n",
    "    // Alice prepares some arbitrary state on 'message'\n",
    "    PrepareState(alice_message);\n",
    "\n",
    "    // Step 4:\n",
    "    // Alice performs a Bell-basis measurement on (alice_message, alice_qubit)\n",
    "    // and sends the results to Bob.\n",
    "    let (m1, m2) = AliceTeleport(alice_message, alice_qubit);\n",
    "\n",
    "    // Step 5:\n",
    "    // Bob receives Alice's measurement results and applies X and/or Z depending on Alice’s bits m1, m2\n",
    "    // to recover the original state on his qubit (bob_qubit).\n",
    "    BobDecodeTeleportedState(m1, m2, bob_qubit);\n",
    "\n",
    "    // Verification:\n",
    "    // To check correctness - undo Alice’s preparation on Bob's 'target'\n",
    "    Adjoint PrepareState(bob_qubit);\n",
    "    let result = M(bob_qubit);\n",
    "\n",
    "    ResetAll([alice_message, alice_qubit, bob_qubit]);\n",
    "\n",
    "    result\n",
    "}\n",
    "\n",
    "// Alice performs a Bell-basis measurement on (message, resource), yielding two classical bits (m1, m2)\n",
    "operation AliceTeleport(alice_message : Qubit, alice_qubit : Qubit) : (Bool, Bool) {\n",
    "    CNOT(alice_message, alice_qubit);\n",
    "    H(alice_message);\n",
    "\n",
    "    let m1 = M(alice_message) == One;\n",
    "    let m2 = M(alice_qubit) == One;\n",
    "\n",
    "    (m1, m2)\n",
    "}\n",
    "\n",
    "/// Prepares an arbitrary single-qubit state (Alice's secret message).\n",
    "operation PrepareState(q : Qubit) : Unit is Adj + Ctl {\n",
    "    Rx(1. * PI() / 2., q);\n",
    "    Ry(2. * PI() / 3., q);\n",
    "    Rz(3. * PI() / 4., q);\n",
    "}\n",
    "\n",
    "/// Bob's decoding: apply X and/or Z depending on Alice's bits m1, m2\n",
    "operation BobDecodeTeleportedState(m1 : Bool, m2 : Bool, bob_qubit : Qubit) : Unit {\n",
    "    if not m1 and not m2 {\n",
    "        // (0,0): do nothing\n",
    "        I(bob_qubit);\n",
    "    }\n",
    "    if not m1 and m2 {\n",
    "        // (0,1): apply X\n",
    "        X(bob_qubit);\n",
    "    }\n",
    "    if m1 and not m2 {\n",
    "        // (1,0): apply Z\n",
    "        Z(bob_qubit);\n",
    "    }\n",
    "    if m1 and m2 {\n",
    "        // (1,1): apply Z then X\n",
    "        Z(bob_qubit);\n",
    "        X(bob_qubit);\n",
    "    }\n",
    "}\n"
   ]
  },
  {
   "cell_type": "code",
   "execution_count": null,
   "id": "04a92676",
   "metadata": {},
   "outputs": [],
   "source": [
    "results = qsharp.run(\"TeleportationEndToEnd()\", shots=1000)\n",
    "success = results.count(qsharp.Result.Zero) / len(results)\n",
    "print(f\"Success rate of teleportation: {success:.2%}\")"
   ]
  }
 ],
 "metadata": {
  "kernelspec": {
   "display_name": ".venv",
   "language": "python",
   "name": "python3"
  },
  "language_info": {
   "codemirror_mode": {
    "name": "ipython",
    "version": 3
   },
   "file_extension": ".py",
   "mimetype": "text/x-python",
   "name": "python",
   "nbconvert_exporter": "python",
   "pygments_lexer": "ipython3",
   "version": "3.13.3"
  }
 },
 "nbformat": 4,
 "nbformat_minor": 5
}
