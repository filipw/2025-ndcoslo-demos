{
 "cells": [
  {
   "cell_type": "code",
   "execution_count": null,
   "id": "d66c362e",
   "metadata": {},
   "outputs": [],
   "source": [
    "import qsharp\n",
    "import os, sys\n",
    "\n",
    "notebook_dir = os.getcwd()\n",
    "project_root = os.path.dirname(notebook_dir)\n",
    "if project_root not in sys.path:\n",
    "    sys.path.insert(0, project_root)\n",
    "from util import plot"
   ]
  },
  {
   "cell_type": "code",
   "execution_count": null,
   "id": "5031c8d3",
   "metadata": {
    "vscode": {
     "languageId": "qsharp"
    }
   },
   "outputs": [],
   "source": [
    "%%qsharp\n",
    "\n",
    "operation SpinZ(basis : Pauli, flip : Bool) : Result {\n",
    "    use electron = Qubit();\n",
    "    if (flip) { X(electron); }\n",
    "\n",
    "    let result = Measure([basis], [electron]);\n",
    "    Reset(electron);\n",
    "\n",
    "    return result;\n",
    "}\n",
    "\n",
    "operation SpinX(basis : Pauli, flip : Bool) : Result {\n",
    "    use electron = Qubit();\n",
    "    if (flip) { X(electron); }\n",
    "\n",
    "    H(electron);\n",
    "\n",
    "    let result = Measure([basis], [electron]);\n",
    "    Reset(electron);\n",
    "\n",
    "    return result;\n",
    "}"
   ]
  },
  {
   "cell_type": "code",
   "execution_count": null,
   "id": "ebf001a9",
   "metadata": {},
   "outputs": [],
   "source": [
    "results = qsharp.run(\"SpinZ(PauliZ, false)\", shots=1000)\n",
    "plot(results, title=\"Spin Up, measured in Z basis\")"
   ]
  },
  {
   "cell_type": "code",
   "execution_count": null,
   "id": "8cdd6c63",
   "metadata": {},
   "outputs": [],
   "source": [
    "results = qsharp.run(\"SpinZ(PauliZ, true)\", shots=1000)\n",
    "plot(results, title=\"Spin Down, measured in Z basis\")"
   ]
  },
  {
   "cell_type": "code",
   "execution_count": null,
   "id": "690a62f0",
   "metadata": {},
   "outputs": [],
   "source": [
    "results = qsharp.run(\"SpinZ(PauliX, false)\", shots=1000)\n",
    "plot(results, title=\"Spin Up, measured in X basis\")"
   ]
  },
  {
   "cell_type": "code",
   "execution_count": null,
   "id": "de461a6d",
   "metadata": {},
   "outputs": [],
   "source": [
    "results = qsharp.run(\"SpinZ(PauliX, true)\", shots=1000)\n",
    "plot(results, title=\"Spin Down, measured in X basis\")"
   ]
  },
  {
   "cell_type": "code",
   "execution_count": null,
   "id": "498406a5",
   "metadata": {},
   "outputs": [],
   "source": [
    "results = qsharp.run(\"SpinX(PauliX, false)\", shots=1000)\n",
    "plot(results, title=\"Spin +, measured in X basis\")"
   ]
  },
  {
   "cell_type": "code",
   "execution_count": null,
   "id": "fc223454",
   "metadata": {},
   "outputs": [],
   "source": [
    "results = qsharp.run(\"SpinX(PauliX, true)\", shots=1000)\n",
    "plot(results, title=\"Spin -, measured in X basis\")"
   ]
  },
  {
   "cell_type": "code",
   "execution_count": null,
   "id": "c9241fce",
   "metadata": {},
   "outputs": [],
   "source": [
    "results = qsharp.run(\"SpinX(PauliZ, false)\", shots=1000)\n",
    "plot(results, title=\"Spin +, measured in Z basis\")"
   ]
  },
  {
   "cell_type": "code",
   "execution_count": null,
   "id": "fc433fa3",
   "metadata": {},
   "outputs": [],
   "source": [
    "results = qsharp.run(\"SpinX(PauliZ, true)\", shots=1000)\n",
    "plot(results, title=\"Spin -, measured in Z basis\")"
   ]
  }
 ],
 "metadata": {
  "kernelspec": {
   "display_name": ".venv",
   "language": "python",
   "name": "python3"
  },
  "language_info": {
   "codemirror_mode": {
    "name": "ipython",
    "version": 3
   },
   "file_extension": ".py",
   "mimetype": "text/x-python",
   "name": "python",
   "nbconvert_exporter": "python",
   "pygments_lexer": "ipython3",
   "version": "3.13.3"
  }
 },
 "nbformat": 4,
 "nbformat_minor": 5
}
