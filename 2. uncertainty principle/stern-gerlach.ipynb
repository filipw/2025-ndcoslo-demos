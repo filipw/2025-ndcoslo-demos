{
 "cells": [
  {
   "cell_type": "code",
   "execution_count": null,
   "id": "d66c362e",
   "metadata": {},
   "outputs": [],
   "source": [
    "import qsharp\n",
    "import os, sys\n",
    "\n",
    "notebook_dir = os.getcwd()\n",
    "project_root = os.path.dirname(notebook_dir)\n",
    "if project_root not in sys.path:\n",
    "    sys.path.insert(0, project_root)\n",
    "from util import plot"
   ]
  },
  {
   "cell_type": "markdown",
   "id": "1cb6993f",
   "metadata": {},
   "source": [
    "![](stern-gerlach-z.excalidraw.svg)"
   ]
  },
  {
   "cell_type": "markdown",
   "id": "a770118b",
   "metadata": {},
   "source": [
    "![](stern-gerlach-x.excalidraw.svg)"
   ]
  },
  {
   "cell_type": "code",
   "execution_count": null,
   "id": "5031c8d3",
   "metadata": {
    "vscode": {
     "languageId": "qsharp"
    }
   },
   "outputs": [],
   "source": [
    "%%qsharp\n",
    "\n",
    "operation SpinZ(measurement_basis : Pauli) : Result {\n",
    "    // allocate a new qubit in the state |↑⟩\n",
    "    use electron = Qubit();\n",
    "\n",
    "    // measurement result is deterministic in the Z basis\n",
    "    // and random in the X basis\n",
    "    let result = Measure([measurement_basis], [electron]);\n",
    "    Reset(electron);\n",
    "\n",
    "    result\n",
    "}\n",
    "\n",
    "operation SpinX(measurement_basis : Pauli) : Result {\n",
    "    // allocate a new qubit in the state |+⟩\n",
    "    use electron = Qubit();\n",
    "    H(electron);\n",
    "\n",
    "    // measurement result is deterministic in the X basis\n",
    "    // and random in the Z basis\n",
    "    let result = Measure([measurement_basis], [electron]);\n",
    "    Reset(electron);\n",
    "\n",
    "    result\n",
    "}"
   ]
  },
  {
   "cell_type": "code",
   "execution_count": null,
   "id": "ebf001a9",
   "metadata": {},
   "outputs": [],
   "source": [
    "results = qsharp.run(\"SpinZ(PauliZ)\", shots=1000)\n",
    "plot(results, title=\"Spin Up, measured in Z basis\")"
   ]
  },
  {
   "cell_type": "markdown",
   "id": "a7dcc137",
   "metadata": {},
   "source": [
    "![](./stern-gerlach-zx.excalidraw.svg)"
   ]
  },
  {
   "cell_type": "code",
   "execution_count": null,
   "id": "690a62f0",
   "metadata": {},
   "outputs": [],
   "source": [
    "results = qsharp.run(\"SpinZ(PauliX)\", shots=1000)\n",
    "plot(results, title=\"Spin Up, measured in X basis\")"
   ]
  },
  {
   "cell_type": "code",
   "execution_count": null,
   "id": "498406a5",
   "metadata": {},
   "outputs": [],
   "source": [
    "results = qsharp.run(\"SpinX(PauliX)\", shots=1000)\n",
    "plot(results, title=\"Spin +, measured in X basis\")"
   ]
  },
  {
   "cell_type": "code",
   "execution_count": null,
   "id": "c9241fce",
   "metadata": {},
   "outputs": [],
   "source": [
    "results = qsharp.run(\"SpinX(PauliZ)\", shots=1000)\n",
    "plot(results, title=\"Spin +, measured in Z basis\")"
   ]
  },
  {
   "cell_type": "markdown",
   "id": "1872daee",
   "metadata": {},
   "source": [
    "![](stern-gerlach-zxz.excalidraw.svg)"
   ]
  },
  {
   "cell_type": "code",
   "execution_count": null,
   "id": "180173f4",
   "metadata": {
    "vscode": {
     "languageId": "qsharp"
    }
   },
   "outputs": [],
   "source": [
    "%%qsharp\n",
    "\n",
    "operation SpinZMeasuredInXThenZ() : Result {\n",
    "    // allocate a new qubit in the state |↑⟩\n",
    "    use electron = Qubit();\n",
    "\n",
    "    let result_one = Measure([PauliX], [electron]);\n",
    "    let result_two = Measure([PauliZ], [electron]);\n",
    "\n",
    "    Reset(electron);\n",
    "    result_two\n",
    "}"
   ]
  },
  {
   "cell_type": "code",
   "execution_count": null,
   "id": "4be1cd82",
   "metadata": {},
   "outputs": [],
   "source": [
    "results = qsharp.run(\"SpinZMeasuredInXThenZ()\", shots=1000)\n",
    "plot(results, title=\"Spin up, measured in X basis, then Z basis\")"
   ]
  },
  {
   "cell_type": "code",
   "execution_count": null,
   "id": "9e5a234c",
   "metadata": {},
   "outputs": [],
   "source": [
    "results = qsharp.run(\"SpinZMeasuredInXThenZ()\", shots=1000)\n",
    "plot(results, title=\"Spin down, measured in X basis, then Z basis\")"
   ]
  }
 ],
 "metadata": {
  "kernelspec": {
   "display_name": ".venv",
   "language": "python",
   "name": "python3"
  },
  "language_info": {
   "codemirror_mode": {
    "name": "ipython",
    "version": 3
   },
   "file_extension": ".py",
   "mimetype": "text/x-python",
   "name": "python",
   "nbconvert_exporter": "python",
   "pygments_lexer": "ipython3",
   "version": "3.13.3"
  }
 },
 "nbformat": 4,
 "nbformat_minor": 5
}
