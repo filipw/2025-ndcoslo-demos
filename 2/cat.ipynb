{
 "cells": [
  {
   "cell_type": "code",
   "execution_count": null,
   "id": "cd1703cb",
   "metadata": {},
   "outputs": [],
   "source": [
    "import qsharp"
   ]
  },
  {
   "cell_type": "code",
   "execution_count": null,
   "id": "4aa92a4e",
   "metadata": {},
   "outputs": [],
   "source": [
    "from collections import Counter\n",
    "from itertools import product\n",
    "import plotly.graph_objects as go\n",
    "from qsharp import Result\n",
    "\n",
    "def plot(\n",
    "    results: list,\n",
    "    title: str\n",
    ") -> None:\n",
    "    first = results[0] if results else None\n",
    "    if isinstance(first, (list, tuple)):\n",
    "        n_qubits = len(first)\n",
    "        bitstrings = [\n",
    "            \"\".join(\"0\" if r == Result.Zero else \"1\" for r in shot)\n",
    "            for shot in results\n",
    "        ]\n",
    "        counts = Counter(bitstrings)\n",
    "        all_strs = [\"\".join(p) for p in product(\"01\", repeat=n_qubits)]\n",
    "        for bs in all_strs:\n",
    "            counts.setdefault(bs, 0)\n",
    "        outcomes = all_strs\n",
    "    else:\n",
    "        labels = [\"Zero\" if r == Result.Zero else \"One\" for r in results]\n",
    "        counts = Counter(labels)\n",
    "        for key in (\"Zero\", \"One\"):\n",
    "            counts.setdefault(key, 0)\n",
    "        outcomes = [\"Zero\", \"One\"]\n",
    "\n",
    "    freqs = [counts[o] for o in outcomes]\n",
    "\n",
    "    fig = go.Figure(\n",
    "        data=go.Bar(\n",
    "            x=outcomes,\n",
    "            y=freqs,\n",
    "            text=freqs,\n",
    "        ),\n",
    "        layout=go.Layout(\n",
    "            title=title,\n",
    "        )\n",
    "    )\n",
    "    fig.show()\n"
   ]
  },
  {
   "cell_type": "code",
   "execution_count": null,
   "id": "eb4ba2c6",
   "metadata": {
    "vscode": {
     "languageId": "qsharp"
    }
   },
   "outputs": [],
   "source": [
    "%%qsharp\n",
    "\n",
    "operation PoloniumAtomAndObserver() : Result {\n",
    "    // qubit in a superposition pretends to be a polonium atom\n",
    "    use atom = Qubit();\n",
    "    H(atom);\n",
    "\n",
    "    // measurement simulates the observer\n",
    "    let decay = M(atom);\n",
    "    Reset(atom);\n",
    "    return decay;\n",
    "}"
   ]
  },
  {
   "cell_type": "code",
   "execution_count": null,
   "id": "b08d3066",
   "metadata": {},
   "outputs": [],
   "source": [
    "results = qsharp.run(\"PoloniumAtomAndObserver()\", shots=1000)\n",
    "plot(results, title=\"Polonium Atom: Observed Decay Outcomes\")"
   ]
  },
  {
   "cell_type": "code",
   "execution_count": null,
   "id": "1a53ba34",
   "metadata": {
    "vscode": {
     "languageId": "qsharp"
    }
   },
   "outputs": [],
   "source": [
    "%%qsharp\n",
    "\n",
    "operation AtomCatAndObserver() : Result[] {\n",
    "    // qubit in a superposition pretends to be a polonium atom\n",
    "    use atom = Qubit();\n",
    "    H(atom);\n",
    "\n",
    "    // another qubit pretends to be a cat\n",
    "    // it is entangled with the atom\n",
    "    use cat = Qubit();\n",
    "    CNOT(atom, cat);\n",
    "\n",
    "    // measurement simulates the observer\n",
    "    let results = MResetEachZ([atom, cat]);\n",
    "    return results;\n",
    "}"
   ]
  },
  {
   "cell_type": "code",
   "execution_count": null,
   "id": "d486a0c8",
   "metadata": {},
   "outputs": [],
   "source": [
    "results = qsharp.run(\"AtomCatAndObserver()\", shots=1000)\n",
    "plot(results, title=\"Atom and Cat Entanglement\")"
   ]
  },
  {
   "cell_type": "code",
   "execution_count": null,
   "id": "9b0dca6c",
   "metadata": {
    "vscode": {
     "languageId": "qsharp"
    }
   },
   "outputs": [],
   "source": [
    "%%qsharp\n",
    "\n",
    "operation AtomCatObserverAndEnvironment() : Result[] {\n",
    "    // qubit in a superposition pretends to be a polonium atom\n",
    "    use atom = Qubit();\n",
    "    H(atom);\n",
    "\n",
    "    // another qubit pretends to be a cat\n",
    "    // it is entangled with the atom\n",
    "    use cat = Qubit();\n",
    "    CNOT(atom, cat);\n",
    "\n",
    "    // 3 more qubits pretend to be the environment, also entangled\n",
    "    use env = Qubit[3];\n",
    "    for i in 0..2 {\n",
    "        CNOT(cat, env[i]);\n",
    "    }\n",
    "\n",
    "    // measurement simulates the observer\n",
    "    let results = MResetEachZ([atom, cat] + env);\n",
    "    return results;\n",
    "}"
   ]
  },
  {
   "cell_type": "code",
   "execution_count": null,
   "id": "f3b05b02",
   "metadata": {},
   "outputs": [],
   "source": [
    "results = qsharp.run(\"AtomCatObserverAndEnvironment()\", shots=1000)\n",
    "plot(results, title=\"Atom, Cat, Observer and Environment Entanglement\")"
   ]
  }
 ],
 "metadata": {
  "kernelspec": {
   "display_name": ".venv",
   "language": "python",
   "name": "python3"
  },
  "language_info": {
   "codemirror_mode": {
    "name": "ipython",
    "version": 3
   },
   "file_extension": ".py",
   "mimetype": "text/x-python",
   "name": "python",
   "nbconvert_exporter": "python",
   "pygments_lexer": "ipython3",
   "version": "3.13.3"
  }
 },
 "nbformat": 4,
 "nbformat_minor": 5
}
