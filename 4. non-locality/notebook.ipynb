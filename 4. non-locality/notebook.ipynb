{
 "cells": [
  {
   "cell_type": "code",
   "execution_count": null,
   "id": "d4f81eb7",
   "metadata": {},
   "outputs": [],
   "source": [
    "import qsharp\n",
    "import os, sys\n",
    "\n",
    "notebook_dir = os.getcwd()\n",
    "project_root = os.path.dirname(notebook_dir)\n",
    "if project_root not in sys.path:\n",
    "    sys.path.insert(0, project_root)\n",
    "from util import plot"
   ]
  },
  {
   "cell_type": "code",
   "execution_count": null,
   "id": "724e0728",
   "metadata": {
    "vscode": {
     "languageId": "qsharp"
    }
   },
   "outputs": [],
   "source": [
    "%%qsharp\n",
    "\n",
    "operation Independent(measurement_basis : Pauli) : Result[] {\n",
    "    use (one, two) = (Qubit(), Qubit());\n",
    "\n",
    "    let result_one = Measure([measurement_basis], [one]);\n",
    "    let result_two = Measure([measurement_basis], [two]);\n",
    "    ResetAll([one, two]);\n",
    "\n",
    "    [result_one, result_two]\n",
    "}\n",
    "\n",
    "operation Entangled(measurement_basis : Pauli) : Result[] {\n",
    "    use (one, two) = (Qubit(), Qubit());\n",
    "\n",
    "    // create entangled state\n",
    "    H(one);\n",
    "    CNOT(one, two);\n",
    "\n",
    "    let result_one = Measure([measurement_basis], [one]);\n",
    "    let result_two = Measure([measurement_basis], [two]);\n",
    "    ResetAll([one, two]);\n",
    "\n",
    "    [result_one, result_two]\n",
    "}"
   ]
  },
  {
   "cell_type": "code",
   "execution_count": null,
   "id": "2e406274",
   "metadata": {},
   "outputs": [],
   "source": [
    "results = qsharp.run(\"Independent(PauliZ)\", shots=1000)\n",
    "plot(results, title=\"Independent electron spin measurement - Z basis\")"
   ]
  },
  {
   "cell_type": "code",
   "execution_count": null,
   "id": "2d8b3a58",
   "metadata": {},
   "outputs": [],
   "source": [
    "results = qsharp.run(\"Independent(PauliX)\", shots=1000)\n",
    "plot(results, title=\"Independent electron spin measurement - X basis\")"
   ]
  },
  {
   "cell_type": "code",
   "execution_count": null,
   "id": "e788667d",
   "metadata": {},
   "outputs": [],
   "source": [
    "results = qsharp.run(\"Entangled(PauliZ)\", shots=1000)\n",
    "plot(results, title=\"Entangled electrons spin measurement - Z basis\")"
   ]
  },
  {
   "cell_type": "code",
   "execution_count": null,
   "id": "95049bca",
   "metadata": {},
   "outputs": [],
   "source": [
    "results = qsharp.run(\"Entangled(PauliX)\", shots=1000)\n",
    "plot(results, title=\"Entangled electrons spin measurement - X basis\")"
   ]
  }
 ],
 "metadata": {
  "kernelspec": {
   "display_name": ".venv",
   "language": "python",
   "name": "python3"
  },
  "language_info": {
   "codemirror_mode": {
    "name": "ipython",
    "version": 3
   },
   "file_extension": ".py",
   "mimetype": "text/x-python",
   "name": "python",
   "nbconvert_exporter": "python",
   "pygments_lexer": "ipython3",
   "version": "3.13.3"
  }
 },
 "nbformat": 4,
 "nbformat_minor": 5
}
