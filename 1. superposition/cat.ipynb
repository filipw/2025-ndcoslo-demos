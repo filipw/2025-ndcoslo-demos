{
 "cells": [
  {
   "cell_type": "code",
   "execution_count": null,
   "id": "cd1703cb",
   "metadata": {},
   "outputs": [],
   "source": [
    "import qsharp\n",
    "import os, sys\n",
    "\n",
    "notebook_dir = os.getcwd()\n",
    "project_root = os.path.dirname(notebook_dir)\n",
    "if project_root not in sys.path:\n",
    "    sys.path.insert(0, project_root)\n",
    "from util import plot"
   ]
  },
  {
   "cell_type": "markdown",
   "id": "17cbd925",
   "metadata": {},
   "source": [
    "![](atom.excalidraw.svg)"
   ]
  },
  {
   "cell_type": "code",
   "execution_count": null,
   "id": "eb4ba2c6",
   "metadata": {
    "vscode": {
     "languageId": "qsharp"
    }
   },
   "outputs": [],
   "source": [
    "%%qsharp\n",
    "\n",
    "import Std.Math.*;\n",
    "\n",
    "operation PoloniumAtomAndObserver() : Result {\n",
    "    // qubit in a superposition pretends to be a polonium atom\n",
    "    use atom = Qubit();\n",
    "    Ry(PI() / 5.0, atom);\n",
    "\n",
    "    // measurement simulates the observer\n",
    "    let decay = M(atom);\n",
    "    Reset(atom);\n",
    "    decay\n",
    "}"
   ]
  },
  {
   "cell_type": "code",
   "execution_count": null,
   "id": "b08d3066",
   "metadata": {},
   "outputs": [],
   "source": [
    "results = qsharp.run(\"PoloniumAtomAndObserver()\", shots=1000)\n",
    "plot(results, title=\"Polonium Atom: Observed Decay Outcomes\")"
   ]
  },
  {
   "cell_type": "markdown",
   "id": "241bb374",
   "metadata": {},
   "source": [
    "![](cat2.excalidraw.svg)"
   ]
  },
  {
   "cell_type": "code",
   "execution_count": null,
   "id": "1a53ba34",
   "metadata": {
    "vscode": {
     "languageId": "qsharp"
    }
   },
   "outputs": [],
   "source": [
    "%%qsharp\n",
    "\n",
    "import Std.Math.*;\n",
    "\n",
    "operation AtomCatAndObserver() : Result[] {\n",
    "    // qubit in a superposition pretends to be a polonium atom\n",
    "    use atom = Qubit();\n",
    "    Ry(PI() / 5.0, atom);\n",
    "\n",
    "    // a pair of qubits pretend to be a cat\n",
    "    // they are entangled with the atom\n",
    "    use (cat_front, cat_back) = (Qubit(), Qubit());\n",
    "    CNOT(atom, cat_front);\n",
    "    CNOT(atom, cat_back);\n",
    "\n",
    "    // measurement simulates the observer\n",
    "    MResetEachZ([atom, cat_front, cat_back])\n",
    "}"
   ]
  },
  {
   "cell_type": "code",
   "execution_count": null,
   "id": "d486a0c8",
   "metadata": {},
   "outputs": [],
   "source": [
    "results = qsharp.run(\"AtomCatAndObserver()\", shots=1000)\n",
    "plot(results, title=\"Atom and Cat Entanglement\")"
   ]
  },
  {
   "cell_type": "markdown",
   "id": "ef9b9b50",
   "metadata": {},
   "source": [
    "![](env2.excalidraw.svg)"
   ]
  },
  {
   "cell_type": "code",
   "execution_count": null,
   "id": "9b0dca6c",
   "metadata": {
    "vscode": {
     "languageId": "qsharp"
    }
   },
   "outputs": [],
   "source": [
    "%%qsharp\n",
    "\n",
    "import Std.Math.*;\n",
    "\n",
    "operation AtomCatObserverAndEnvironment() : Result[] {\n",
    "    // qubit in a superposition pretends to be a polonium atom\n",
    "    use atom = Qubit();\n",
    "    Ry(PI() / 5.0, atom);\n",
    "\n",
    "    // a pair of qubits pretend to be a cat\n",
    "    // they are entangled with the atom\n",
    "    use (cat_front, cat_back) = (Qubit(), Qubit());\n",
    "    CNOT(atom, cat_front);\n",
    "    CNOT(atom, cat_back);\n",
    "\n",
    "    // 5 more qubits pretend to be the environment, also entangled\n",
    "    mutable env_results = [Zero, size = 5];\n",
    "    use env = Qubit[5];\n",
    "    for i in 0..4 {\n",
    "        CNOT(atom, env[i]);\n",
    "\n",
    "        // simulate decoherence\n",
    "        env_results w/= i <- MResetZ(env[i]); \n",
    "    }\n",
    "\n",
    "    // measurement simulates the observer\n",
    "    let atomAndCat = MResetEachZ([atom, cat_front, cat_back]);\n",
    "\n",
    "    atomAndCat + env_results\n",
    "}"
   ]
  },
  {
   "cell_type": "code",
   "execution_count": null,
   "id": "f3b05b02",
   "metadata": {},
   "outputs": [],
   "source": [
    "results = qsharp.run(\"AtomCatObserverAndEnvironment()\", shots=1000)\n",
    "\n",
    "# note: we have 2^8 = 256 possible outcomes, so for clarity we hide the empty outcomes\n",
    "plot(results, title=\"Atom, Cat, Observer and Environment Entanglement\", hide_empty=True)"
   ]
  }
 ],
 "metadata": {
  "kernelspec": {
   "display_name": ".venv",
   "language": "python",
   "name": "python3"
  },
  "language_info": {
   "codemirror_mode": {
    "name": "ipython",
    "version": 3
   },
   "file_extension": ".py",
   "mimetype": "text/x-python",
   "name": "python",
   "nbconvert_exporter": "python",
   "pygments_lexer": "ipython3",
   "version": "3.13.3"
  }
 },
 "nbformat": 4,
 "nbformat_minor": 5
}
