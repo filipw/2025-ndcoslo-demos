{
 "cells": [
  {
   "cell_type": "code",
   "execution_count": null,
   "id": "d66c362e",
   "metadata": {},
   "outputs": [],
   "source": [
    "import qsharp\n",
    "import os, sys\n",
    "\n",
    "notebook_dir = os.getcwd()\n",
    "project_root = os.path.dirname(notebook_dir)\n",
    "if project_root not in sys.path:\n",
    "    sys.path.insert(0, project_root)\n",
    "from util import plot"
   ]
  },
  {
   "cell_type": "markdown",
   "id": "34d747ef",
   "metadata": {},
   "source": [
    "![](beam-splitter.excalidraw.svg)"
   ]
  },
  {
   "cell_type": "code",
   "execution_count": null,
   "id": "f411a235",
   "metadata": {
    "vscode": {
     "languageId": "qsharp"
    }
   },
   "outputs": [],
   "source": [
    "%%qsharp\n",
    "\n",
    "operation BeamSplitter() : Result {\n",
    "    // allocate a new qubit in default state\n",
    "    use photon = Qubit();\n",
    "\n",
    "    // beam splitter\n",
    "    H(photon);\n",
    "\n",
    "    // result is a random Zero or One (\"detector1\" or \"detector2\")\n",
    "    MResetZ(photon)\n",
    "}"
   ]
  },
  {
   "cell_type": "code",
   "execution_count": null,
   "id": "41176e2c",
   "metadata": {},
   "outputs": [],
   "source": [
    "results = qsharp.run(\"BeamSplitter()\", shots=1000)\n",
    "plot(results, title=\"Beam Spliiter - photons hitting detector 1 - |0⟩ or detector 2 - |1⟩\")"
   ]
  },
  {
   "cell_type": "markdown",
   "id": "3db7af76",
   "metadata": {},
   "source": [
    "![](interferometer1.excalidraw.svg)"
   ]
  },
  {
   "cell_type": "code",
   "execution_count": null,
   "id": "5031c8d3",
   "metadata": {
    "vscode": {
     "languageId": "qsharp"
    }
   },
   "outputs": [],
   "source": [
    "%%qsharp\n",
    "\n",
    "operation MachZehnder() : Result {\n",
    "    // allocate a new qubit in default state\n",
    "    use photon = Qubit();\n",
    "\n",
    "    // beam splitter\n",
    "    H(photon);\n",
    "\n",
    "    // second beam splitter\n",
    "    H(photon);\n",
    "\n",
    "    // result is a certain Zero (\"detector2\") due to interference\n",
    "    MResetZ(photon)\n",
    "}"
   ]
  },
  {
   "cell_type": "code",
   "execution_count": null,
   "id": "ebf001a9",
   "metadata": {},
   "outputs": [],
   "source": [
    "results = qsharp.run(\"MachZehnder()\", shots=1000)\n",
    "plot(results, title=\"Mach-Zehnder Interferometer\")"
   ]
  },
  {
   "cell_type": "markdown",
   "id": "4beecdf1",
   "metadata": {},
   "source": [
    "![](interferometer2.excalidraw.svg)"
   ]
  },
  {
   "cell_type": "code",
   "execution_count": null,
   "id": "5f37bbe4",
   "metadata": {
    "vscode": {
     "languageId": "qsharp"
    }
   },
   "outputs": [],
   "source": [
    "%%qsharp\n",
    "\n",
    "operation MachZehnderWithQND() : (Result, Result) {\n",
    "    // allocate a new qubit in default state\n",
    "    use photon = Qubit();\n",
    "\n",
    "    // beam splitter\n",
    "    H(photon);\n",
    "\n",
    "    // observe using the QND - it is a random Zero or One (so a random blip on QND 1 or QND 2)\n",
    "    let qndResult = MResetZ(photon);\n",
    "\n",
    "    // second beam splitter\n",
    "    H(photon);\n",
    "\n",
    "    // result is now random Zero or One (\"detector1\" or \"detector2\" - interference disappears\n",
    "    let detectorResult = MResetZ(photon);\n",
    "\n",
    "    (qndResult, detectorResult)\n",
    "}"
   ]
  },
  {
   "cell_type": "code",
   "execution_count": null,
   "id": "84c54fa6",
   "metadata": {},
   "outputs": [],
   "source": [
    "results = qsharp.run(\"MachZehnderWithQND()\", shots=1000)\n",
    "plot(results, title=\"Mach-Zehnder Interferometer with Quantum Non-Demolition Traps\")"
   ]
  }
 ],
 "metadata": {
  "kernelspec": {
   "display_name": ".venv",
   "language": "python",
   "name": "python3"
  },
  "language_info": {
   "codemirror_mode": {
    "name": "ipython",
    "version": 3
   },
   "file_extension": ".py",
   "mimetype": "text/x-python",
   "name": "python",
   "nbconvert_exporter": "python",
   "pygments_lexer": "ipython3",
   "version": "3.13.3"
  }
 },
 "nbformat": 4,
 "nbformat_minor": 5
}
